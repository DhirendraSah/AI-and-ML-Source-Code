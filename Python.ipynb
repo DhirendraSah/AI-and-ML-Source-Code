{
  "cells": [
    {
      "cell_type": "markdown",
      "metadata": {
        "id": "view-in-github",
        "colab_type": "text"
      },
      "source": [
        "<a href=\"https://colab.research.google.com/github/DhirendraSah/AI-and-ML-Source-Code/blob/main/Python.ipynb\" target=\"_parent\"><img src=\"https://colab.research.google.com/assets/colab-badge.svg\" alt=\"Open In Colab\"/></a>"
      ]
    },
    {
      "cell_type": "markdown",
      "metadata": {
        "id": "FwqXOk4duovO"
      },
      "source": [
        "If-Else Statement"
      ]
    },
    {
      "cell_type": "code",
      "execution_count": null,
      "metadata": {
        "colab": {
          "base_uri": "https://localhost:8080/"
        },
        "collapsed": true,
        "id": "rUX_Axa1uydr",
        "outputId": "ab8be35a-124c-4bb7-e622-128850cb20b8"
      },
      "outputs": [
        {
          "name": "stdout",
          "output_type": "stream",
          "text": [
            "Enter Your Marks95\n",
            "You are eligible\n"
          ]
        }
      ],
      "source": [
        "a=int(input(\"Enter Your Marks\"))\n",
        "if a>=90:\n",
        "  print(\"You are eligible\")\n",
        "else:\n",
        "  print(\"you are not eligible\")"
      ]
    },
    {
      "cell_type": "markdown",
      "metadata": {
        "id": "tBpOHYE0wADw"
      },
      "source": [
        "If-elif-Else"
      ]
    },
    {
      "cell_type": "code",
      "execution_count": null,
      "metadata": {
        "colab": {
          "base_uri": "https://localhost:8080/"
        },
        "id": "8xmXQs53v7CC",
        "outputId": "d6e0ad54-8804-4c70-b7a1-a49cdcd20c9a"
      },
      "outputs": [
        {
          "name": "stdout",
          "output_type": "stream",
          "text": [
            "Enter Your Marks95\n",
            "You are highly eligible\n"
          ]
        }
      ],
      "source": [
        "a=int(input(\"Enter Your Marks\"))\n",
        "if a>=90:\n",
        "  print(\"You are highly eligible\")\n",
        "elif a>=50 and a<90:\n",
        "  print(\"you are eligible\")\n",
        "elif a>=40 and a<50:\n",
        "  print(\"you are coincidently eligible\")\n",
        "else :\n",
        "  print(\"You are not eligible\")"
      ]
    },
    {
      "cell_type": "markdown",
      "metadata": {
        "id": "QByhnwqByeEn"
      },
      "source": [
        "Nested-If"
      ]
    },
    {
      "cell_type": "code",
      "execution_count": null,
      "metadata": {
        "colab": {
          "base_uri": "https://localhost:8080/"
        },
        "id": "G0UAdBs-yiBl",
        "outputId": "f93d400c-1d4d-44cc-8229-23f2adadb569"
      },
      "outputs": [
        {
          "name": "stdout",
          "output_type": "stream",
          "text": [
            "Enter Your Marks:90\n",
            "You are highly eligible\n"
          ]
        }
      ],
      "source": [
        "a=int(input(\"Enter Your Marks:\"))\n",
        "if a>=90:\n",
        "  print(\"You are highly eligible\")\n",
        "  if a>=95:\n",
        "    print(\"You can go for trip\")\n",
        "else :\n",
        "  print(\"you are eligible\")\n"
      ]
    },
    {
      "cell_type": "markdown",
      "metadata": {
        "id": "cXzXK_xZzYj-"
      },
      "source": [
        "Write a program to check if a number is positive or not"
      ]
    },
    {
      "cell_type": "code",
      "execution_count": null,
      "metadata": {
        "colab": {
          "base_uri": "https://localhost:8080/"
        },
        "id": "aZSpwYtXzgez",
        "outputId": "ae995c5c-9851-4e3f-ba8c-1a92ad47f377"
      },
      "outputs": [
        {
          "name": "stdout",
          "output_type": "stream",
          "text": [
            "Enter a number:0\n",
            "Number is zero\n"
          ]
        }
      ],
      "source": [
        "num= int(input(\"Enter a number:\"))\n",
        "if num==0:\n",
        "  print(\"Number is zero\")\n",
        "elif num>0:\n",
        "   print(\"Number is positive\")\n",
        "else:\n",
        "    print(\"Number is Negative\")"
      ]
    },
    {
      "cell_type": "markdown",
      "metadata": {
        "id": "v7XyjHEI0loR"
      },
      "source": [
        "Write a program to get Area."
      ]
    },
    {
      "cell_type": "code",
      "execution_count": null,
      "metadata": {
        "colab": {
          "base_uri": "https://localhost:8080/"
        },
        "collapsed": true,
        "id": "U2X_Abke0s6q",
        "outputId": "f9663d81-ddc1-459e-e209-06ad7f042fbb"
      },
      "outputs": [
        {
          "name": "stderr",
          "output_type": "stream",
          "text": [
            "<>:12: SyntaxWarning: 'int' object is not callable; perhaps you missed a comma?\n",
            "<>:12: SyntaxWarning: 'int' object is not callable; perhaps you missed a comma?\n"
          ]
        },
        {
          "name": "stdout",
          "output_type": "stream",
          "text": [
            "press 1 to get area of Triangle\n",
            "press 2 to get area of Rectangle\n",
            "press 3 to get area of Square\n",
            "press 4 to get area of Circle\n",
            "Press your choice:2\n"
          ]
        },
        {
          "name": "stderr",
          "output_type": "stream",
          "text": [
            "/tmp/ipython-input-1594133516.py:12: SyntaxWarning: 'int' object is not callable; perhaps you missed a comma?\n",
            "  area=1/2(b*h)\n"
          ]
        },
        {
          "name": "stdout",
          "output_type": "stream",
          "text": [
            "Enter Length:4\n",
            "Enter Breadth:5\n",
            "Area of Rectangle is 20\n"
          ]
        }
      ],
      "source": [
        "print(\"\"\"press 1 to get area of Triangle\n",
        "press 2 to get area of Rectangle\n",
        "press 3 to get area of Square\n",
        "press 4 to get area of Circle\"\"\")\n",
        "\n",
        "choice = int(input(\"Press your choice:\"))\n",
        "\n",
        "if choice==1:\n",
        "  h=int(input(\"Enter Hypotenious:\"))\n",
        "  b=int(input(\"Enter Base:\"))\n",
        "  p=int(input(\"Enter Perpendicular:\"))\n",
        "  area=1/2(b*h)\n",
        "  print(\"Area of Triangle is\", area)\n",
        "\n",
        "elif choice==2:\n",
        "  l=int(input(\"Enter Length:\"))\n",
        "  b=int(input(\"Enter Breadth:\"))\n",
        "  area=l*b\n",
        "  print(\"Area of Rectangle is\", area)\n",
        "\n",
        "elif choice==3:\n",
        "  l=int(input(\"Enter Length:\"))\n",
        "  area=l*l\n",
        "  print(\"Area of Square is\", area)\n",
        "\n",
        "elif choice==4:\n",
        "  r=int(input(\"Enter Radius:\"))\n",
        "  area=2*3.1416*r\n",
        "  print(\"Area of Circle is\", area)"
      ]
    },
    {
      "cell_type": "markdown",
      "metadata": {
        "id": "O3IB1IK45lq-"
      },
      "source": [
        "Looping Statement - For Loop"
      ]
    },
    {
      "cell_type": "code",
      "execution_count": null,
      "metadata": {
        "colab": {
          "base_uri": "https://localhost:8080/"
        },
        "id": "hXdjCwLT5pWi",
        "outputId": "1c27760d-b8d1-46e3-a069-6efd13cf1a77"
      },
      "outputs": [
        {
          "name": "stdout",
          "output_type": "stream",
          "text": [
            "1\n",
            "4\n"
          ]
        }
      ],
      "source": [
        "for i in range(1,6):\n",
        "  print(i)"
      ]
    },
    {
      "cell_type": "code",
      "execution_count": null,
      "metadata": {
        "colab": {
          "base_uri": "https://localhost:8080/"
        },
        "id": "N6ELe8zDAZka",
        "outputId": "53085da5-2e13-4b47-95e9-bc36a51f0d75"
      },
      "outputs": [
        {
          "name": "stdout",
          "output_type": "stream",
          "text": [
            "5 * 1 = 5\n",
            "5 * 2 = 10\n",
            "5 * 3 = 15\n",
            "5 * 4 = 20\n",
            "5 * 5 = 25\n",
            "5 * 6 = 30\n",
            "5 * 7 = 35\n",
            "5 * 8 = 40\n",
            "5 * 9 = 45\n",
            "5 * 10 = 50\n"
          ]
        }
      ],
      "source": [
        "a=5\n",
        "for i in range(1,11):\n",
        "  print(a,\"*\",i,\"=\",i*a)"
      ]
    },
    {
      "cell_type": "markdown",
      "metadata": {
        "id": "QNTA95H3A5bU"
      },
      "source": [
        "While Loop"
      ]
    },
    {
      "cell_type": "code",
      "execution_count": null,
      "metadata": {
        "colab": {
          "base_uri": "https://localhost:8080/"
        },
        "id": "3snRCuThA4OQ",
        "outputId": "701c854c-4704-4f17-9566-4bc25d0cb8a4"
      },
      "outputs": [
        {
          "name": "stdout",
          "output_type": "stream",
          "text": [
            "5 * 1 = 5\n",
            "5 * 2 = 10\n",
            "5 * 3 = 15\n",
            "5 * 4 = 20\n",
            "5 * 5 = 25\n",
            "5 * 6 = 30\n",
            "5 * 7 = 35\n",
            "5 * 8 = 40\n",
            "5 * 9 = 45\n",
            "5 * 10 = 50\n"
          ]
        }
      ],
      "source": [
        "n=1\n",
        "a=5\n",
        "while(n<=10):\n",
        "  print(a,\"*\",n,\"=\",n*a)\n",
        "  n=n+1"
      ]
    },
    {
      "cell_type": "markdown",
      "metadata": {
        "id": "U4PqXmk5JAlE"
      },
      "source": [
        "Write a program to print pattern\n"
      ]
    },
    {
      "cell_type": "code",
      "execution_count": null,
      "metadata": {
        "colab": {
          "base_uri": "https://localhost:8080/"
        },
        "id": "vDfwJavrBve2",
        "outputId": "d7460c6d-738d-4fe0-942c-267d979bd6c1"
      },
      "outputs": [
        {
          "name": "stdout",
          "output_type": "stream",
          "text": [
            "1 2 3 4 5 \n",
            "1 2 3 4 5 \n",
            "1 2 3 4 5 \n",
            "1 2 3 4 5 \n",
            "1 2 3 4 5 \n"
          ]
        }
      ],
      "source": [
        "for i in range(1,6):\n",
        "  for j in range(1,6):\n",
        "    print(j, end=\" \")\n",
        "  print()"
      ]
    },
    {
      "cell_type": "code",
      "execution_count": null,
      "metadata": {
        "colab": {
          "base_uri": "https://localhost:8080/"
        },
        "id": "_07b6bcuJv4r",
        "outputId": "28547b06-3a8f-4179-dd29-c808594db05b"
      },
      "outputs": [
        {
          "name": "stdout",
          "output_type": "stream",
          "text": [
            "1 \n",
            "1 2 \n",
            "1 2 3 \n",
            "1 2 3 4 \n",
            "1 2 3 4 5 \n"
          ]
        }
      ],
      "source": [
        "for i in range(1,6):\n",
        "  for j in range(1,i+1):\n",
        "    print(j, end=\" \")\n",
        "  print()"
      ]
    },
    {
      "cell_type": "code",
      "execution_count": null,
      "metadata": {
        "colab": {
          "base_uri": "https://localhost:8080/"
        },
        "id": "V0XcXRnpJ8UX",
        "outputId": "617769a0-85fd-4b64-87d9-b358d93f799f"
      },
      "outputs": [
        {
          "name": "stdout",
          "output_type": "stream",
          "text": [
            "* \n",
            "* * \n",
            "* * * \n",
            "* * * * \n",
            "* * * * * \n"
          ]
        }
      ],
      "source": [
        "for i in range(1,6):\n",
        "  for j in range(1,i+1):\n",
        "    print(\"*\", end=\" \")\n",
        "  print()"
      ]
    },
    {
      "cell_type": "code",
      "execution_count": null,
      "metadata": {
        "colab": {
          "base_uri": "https://localhost:8080/"
        },
        "id": "-kbDUXb9KDdv",
        "outputId": "b08cf71f-efad-4b97-a613-81497d0c5f83"
      },
      "outputs": [
        {
          "name": "stdout",
          "output_type": "stream",
          "text": [
            "1 \n",
            "2 2 \n",
            "3 3 3 \n",
            "4 4 4 4 \n",
            "5 5 5 5 5 \n"
          ]
        }
      ],
      "source": [
        "for i in range(1,6):\n",
        "  for j in range(1,i+1):\n",
        "    print(i, end=\" \")\n",
        "  print()"
      ]
    },
    {
      "cell_type": "code",
      "execution_count": null,
      "metadata": {
        "colab": {
          "base_uri": "https://localhost:8080/"
        },
        "id": "JTF5OAe_Kh7T",
        "outputId": "cd36926a-a0cd-4106-921c-214ababcf5be"
      },
      "outputs": [
        {
          "name": "stdout",
          "output_type": "stream",
          "text": [
            "5 4 3 2 1 \n",
            "5 4 3 2 \n",
            "5 4 3 \n",
            "5 4 \n",
            "5 \n",
            "\n"
          ]
        }
      ],
      "source": [
        "for i in range(0,6):\n",
        "  for j in range(5,i,-1):\n",
        "    print(j, end=\" \")\n",
        "  print()"
      ]
    },
    {
      "cell_type": "code",
      "execution_count": null,
      "metadata": {
        "colab": {
          "base_uri": "https://localhost:8080/"
        },
        "id": "QT7RxvuXLRAQ",
        "outputId": "f139cd89-b31c-4be4-fc8a-1152ad8fc082"
      },
      "outputs": [
        {
          "name": "stdout",
          "output_type": "stream",
          "text": [
            "1 1 1 1 1 \n",
            "2 2 2 2 \n",
            "3 3 3 \n",
            "4 4 \n",
            "5 \n"
          ]
        }
      ],
      "source": [
        "for i in range(1,6):\n",
        "  for j in range(6,i,-1):\n",
        "    print(i, end=\" \")\n",
        "  print()"
      ]
    },
    {
      "cell_type": "code",
      "execution_count": null,
      "metadata": {
        "colab": {
          "base_uri": "https://localhost:8080/"
        },
        "id": "F9VmdFOLMEsS",
        "outputId": "3997b91c-2748-4571-a07b-6aa4c74d46a0"
      },
      "outputs": [
        {
          "name": "stdout",
          "output_type": "stream",
          "text": [
            "        * \n",
            "      * * \n",
            "    * * * \n",
            "  * * * * \n",
            "* * * * * \n"
          ]
        }
      ],
      "source": [
        "for i in range(1,6):\n",
        "  for j in range(5,i,-1):\n",
        "    print(\" \", end=\" \")\n",
        "  for k in range(i):\n",
        "    print(\"*\", end=\" \")\n",
        "  print()"
      ]
    },
    {
      "cell_type": "code",
      "execution_count": null,
      "metadata": {
        "colab": {
          "base_uri": "https://localhost:8080/"
        },
        "id": "Vh_mHfXdMf_3",
        "outputId": "662b35f1-f5de-4dfe-9631-d5747e315727"
      },
      "outputs": [
        {
          "name": "stdout",
          "output_type": "stream",
          "text": [
            "1 \n",
            "2 1 \n",
            "3 2 1 \n",
            "4 3 2 1 \n",
            "5 4 3 2 1 \n"
          ]
        }
      ],
      "source": [
        "for i in range(1,6):\n",
        "  for j in range(i,0,-1):\n",
        "    print(j, end=\" \")\n",
        "  print()"
      ]
    },
    {
      "cell_type": "markdown",
      "metadata": {
        "id": "jDAAHHdMOxfO"
      },
      "source": [
        "String Manipulation"
      ]
    },
    {
      "cell_type": "code",
      "execution_count": null,
      "metadata": {
        "colab": {
          "base_uri": "https://localhost:8080/"
        },
        "id": "m483upmGO0Mi",
        "outputId": "fc359191-2aeb-445f-97e7-65b1afd85056"
      },
      "outputs": [
        {
          "name": "stdout",
          "output_type": "stream",
          "text": [
            "20\n",
            "2\n",
            "MY NAME IS DHIRENDRA\n",
            "my name is dhirendra\n",
            "3\n",
            "My name is dhirendra\n",
            "my name is dhirendra\n",
            "My name is Dhirendra and my age is 24\n"
          ]
        }
      ],
      "source": [
        "a=\"My name is Dhirendra\"\n",
        "\n",
        "#Length of string\n",
        "print(len(a))\n",
        "\n",
        "#Count\n",
        "print(a.count(\"n\"))\n",
        "\n",
        "#Upper case\n",
        "print(a.upper())\n",
        "\n",
        "#Lower Case\n",
        "print(a.lower())\n",
        "\n",
        "#index\n",
        "print(a.index(\"n\"))\n",
        "\n",
        "#Capitalized\n",
        "print(a.capitalize())\n",
        "\n",
        "#casefold\n",
        "print(a.casefold())\n",
        "\n",
        "#Format\n",
        "name=\"Dhirendra\"\n",
        "age=24\n",
        "b=\"My name is {} and my age is {}\"\n",
        "print(b.format(name,age))"
      ]
    },
    {
      "cell_type": "markdown",
      "metadata": {
        "id": "acdjllBQfec3"
      },
      "source": [
        "Slicing and Indexing in String"
      ]
    },
    {
      "cell_type": "code",
      "execution_count": null,
      "metadata": {
        "colab": {
          "base_uri": "https://localhost:8080/"
        },
        "id": "7dap-JClfhVV",
        "outputId": "4d0a2700-241a-4c8b-8f08-ea07364e332a"
      },
      "outputs": [
        {
          "name": "stdout",
          "output_type": "stream",
          "text": [
            "My name is Dhirendra sah\n",
            "My name \n",
            "is \n",
            "My \n",
            "rendra sa\n"
          ]
        }
      ],
      "source": [
        "a=\"My name is Dhirendra sah\"\n",
        "print(a)\n",
        "print(a[0:8])\n",
        "print(a[8:11])\n",
        "\n",
        "print(a[:3])\n",
        "print(a[-10:-1])"
      ]
    },
    {
      "cell_type": "code",
      "execution_count": null,
      "metadata": {
        "colab": {
          "base_uri": "https://localhost:8080/"
        },
        "id": "T75B7JpVhoG2",
        "outputId": "794f4f58-0d47-4486-e9f6-78459f735769"
      },
      "outputs": [
        {
          "name": "stdout",
          "output_type": "stream",
          "text": [
            "9876543210\n",
            "02468\n",
            "9630\n"
          ]
        }
      ],
      "source": [
        "a=\"0123456789\"\n",
        "print(a[::-1])\n",
        "print(a[::2])\n",
        "print(a[::-3])"
      ]
    },
    {
      "cell_type": "markdown",
      "metadata": {
        "id": "2ZB7-6ALprEj"
      },
      "source": [
        "W.A.P to get Fibonacci series up to 10 numbers"
      ]
    },
    {
      "cell_type": "code",
      "execution_count": null,
      "metadata": {
        "colab": {
          "base_uri": "https://localhost:8080/"
        },
        "id": "9lV5V-qupx-i",
        "outputId": "6d44bccf-d815-44b1-856d-9488b1ad9dc4"
      },
      "outputs": [
        {
          "name": "stdout",
          "output_type": "stream",
          "text": [
            "1\n",
            "2\n",
            "3\n",
            "5\n",
            "8\n",
            "13\n",
            "21\n",
            "34\n",
            "55\n"
          ]
        }
      ],
      "source": [
        "a=0\n",
        "b=1\n",
        "\n",
        "for i in range(2,11):\n",
        "  c=a+b\n",
        "  a=b\n",
        "  b=c\n",
        "  print(c)\n"
      ]
    },
    {
      "cell_type": "code",
      "execution_count": null,
      "metadata": {
        "colab": {
          "base_uri": "https://localhost:8080/"
        },
        "id": "hWnXb3HlrgR6",
        "outputId": "fa4c59a1-1da1-454e-9bc2-1439b0678a39"
      },
      "outputs": [
        {
          "name": "stdout",
          "output_type": "stream",
          "text": [
            "Enter a number:4\n",
            "1\n",
            "2\n"
          ]
        }
      ],
      "source": [
        "a=0\n",
        "b=1\n",
        "n=int(input(\"Enter a number:\"))\n",
        "if n==1:\n",
        "  print(b)\n",
        "else:\n",
        " for i in range(2,n):\n",
        "  c=a+b\n",
        "  a=b\n",
        "  b=c\n",
        "  print(c)"
      ]
    },
    {
      "cell_type": "code",
      "execution_count": null,
      "metadata": {
        "colab": {
          "background_save": true,
          "base_uri": "https://localhost:8080/"
        },
        "id": "2Br3xXBUvYwe",
        "outputId": "fdaa69c0-a2e7-491a-eb31-5c802e0067a0"
      },
      "outputs": [
        {
          "name": "stdout",
          "output_type": "stream",
          "text": [
            "Number is not palindrome\n"
          ]
        }
      ],
      "source": [
        "#Palindrome\n",
        "num=int(input(\"Enter any Number:\"))\n",
        "temp=num\n",
        "rev=0\n",
        "while (num>0):\n",
        "  dig=num/10\n",
        "  rev=rev*10+dig\n",
        "  num=num//10\n",
        "if rev==temp:\n",
        "  print(\"Number is palindrome\")\n",
        "\n",
        "else:\n",
        "  print(\"Number is not palindrome\")"
      ]
    },
    {
      "cell_type": "markdown",
      "source": [
        "List"
      ],
      "metadata": {
        "id": "W38hO71e7sea"
      }
    },
    {
      "cell_type": "code",
      "source": [
        "fruits=[\"apple\",\"banana\",\"mango\"]\n",
        "print(fruits)\n",
        "print(type(fruits))\n",
        "\n",
        "#Indexing and Slicing of List\n",
        "print(fruits[0])\n",
        "print(fruits[2])\n",
        "print(\"--------------\")\n",
        "\n",
        "print(fruits[1:])\n",
        "print(fruits[:1])\n",
        "print(fruits[::2])\n"
      ],
      "metadata": {
        "colab": {
          "base_uri": "https://localhost:8080/"
        },
        "id": "gAK04Q8y7tnC",
        "outputId": "8f6ee7d5-ff68-468f-ce55-99cf057c3b4c"
      },
      "execution_count": 13,
      "outputs": [
        {
          "output_type": "stream",
          "name": "stdout",
          "text": [
            "['apple', 'banana', 'mango']\n",
            "<class 'list'>\n",
            "apple\n",
            "mango\n",
            "--------------\n",
            "['banana', 'mango']\n",
            "['apple']\n",
            "['apple', 'mango']\n"
          ]
        }
      ]
    },
    {
      "cell_type": "markdown",
      "source": [
        "List Iteration"
      ],
      "metadata": {
        "id": "aWsAukdK94Pq"
      }
    },
    {
      "cell_type": "code",
      "source": [
        "a=[\"Ram\",\"shyam\",\"Gita\",\"sita\"]\n",
        "for i in a:\n",
        "  print(i, )\n",
        "\n",
        "print(\"-----------------\")\n",
        "\n",
        "for i in range(0,len(a)):\n",
        "  print(a[i])"
      ],
      "metadata": {
        "colab": {
          "base_uri": "https://localhost:8080/"
        },
        "id": "J1JEURM-96KO",
        "outputId": "a65f9d93-f87f-441a-fe45-342cdd41514e"
      },
      "execution_count": 20,
      "outputs": [
        {
          "output_type": "stream",
          "name": "stdout",
          "text": [
            "Ram\n",
            "shyam\n",
            "Gita\n",
            "sita\n",
            "-----------------\n",
            "Ram\n",
            "shyam\n",
            "Gita\n",
            "sita\n"
          ]
        }
      ]
    },
    {
      "cell_type": "code",
      "source": [
        "a=[\"Ram\",\"shyam\",\"Gita\",\"sita\"]\n",
        "i=0\n",
        "while (i<len(a)):\n",
        "  print(a[i])\n",
        "  i+=1"
      ],
      "metadata": {
        "colab": {
          "base_uri": "https://localhost:8080/"
        },
        "id": "uwUeHPbj_ewQ",
        "outputId": "055d059f-0267-4f20-be7f-3ca224e6ad46"
      },
      "execution_count": 22,
      "outputs": [
        {
          "output_type": "stream",
          "name": "stdout",
          "text": [
            "Ram\n",
            "shyam\n",
            "Gita\n",
            "sita\n"
          ]
        }
      ]
    },
    {
      "cell_type": "markdown",
      "source": [
        "Function in List"
      ],
      "metadata": {
        "id": "8N-zjZk8_27X"
      }
    },
    {
      "cell_type": "code",
      "source": [
        "num=[2,3,\"apple\",50,\"ram\"]\n",
        "print(num)\n",
        "\n",
        "print(len(a))\n",
        "\n",
        "print(num.count(\"apple\"))\n",
        "\n",
        "#To add element in last of list\n",
        "num.append(\"sita\")\n",
        "print(num)\n",
        "\n",
        "#To add element in any position or any index.\n",
        "num.insert(1,\"Hari\")\n",
        "print(num)\n",
        "\n",
        "#To remove element\n",
        "num.remove(\"apple\")\n",
        "print(num)\n",
        "\n",
        "#To remove last element\n",
        "num.pop()\n",
        "print(num)\n",
        "\n",
        "num.pop(3)\n",
        "print(num)"
      ],
      "metadata": {
        "colab": {
          "base_uri": "https://localhost:8080/"
        },
        "id": "oD7m_98Z_gcq",
        "outputId": "57676246-44f8-4aaf-b579-da6efe2079cb"
      },
      "execution_count": 29,
      "outputs": [
        {
          "output_type": "stream",
          "name": "stdout",
          "text": [
            "[2, 3, 'apple', 50, 'ram']\n",
            "4\n",
            "1\n",
            "[2, 3, 'apple', 50, 'ram', 'sita']\n",
            "[2, 'Hari', 3, 'apple', 50, 'ram', 'sita']\n",
            "[2, 'Hari', 3, 50, 'ram', 'sita']\n",
            "[2, 'Hari', 3, 50, 'ram']\n",
            "[2, 'Hari', 3, 'ram']\n"
          ]
        }
      ]
    },
    {
      "cell_type": "code",
      "source": [
        "#To create copy of list\n",
        "num=[2,3,\"apple\",50,\"ram\"]\n",
        "num1=num.copy()\n",
        "print(num1)\n",
        "print(num)\n",
        "\n",
        "#to access an element\n",
        "print(num.index(\"apple\"))\n",
        "\n",
        "#To extent a list or add list in another list\n",
        "num3=[\"Hii\",\"Hello\"]\n",
        "num.extend(num3)\n",
        "print(num)\n",
        "\n",
        "#To reverse any list\n",
        "num.reverse()\n",
        "print(num)\n",
        "\n",
        "#To sort a list\n",
        "a=[\"zello\",\"hii\",\"ram\",\"aita\"]\n",
        "a.sort()\n",
        "print(a)\n",
        "\n",
        "#To clear a list\n",
        "a.clear()\n",
        "print(a)"
      ],
      "metadata": {
        "colab": {
          "base_uri": "https://localhost:8080/"
        },
        "id": "zdJZLGBNBP-w",
        "outputId": "fb48d8db-2c27-4f88-aaad-760a6c5c9fa3"
      },
      "execution_count": 43,
      "outputs": [
        {
          "output_type": "stream",
          "name": "stdout",
          "text": [
            "[2, 3, 'apple', 50, 'ram']\n",
            "[2, 3, 'apple', 50, 'ram']\n",
            "2\n",
            "[2, 3, 'apple', 50, 'ram', 'Hii', 'Hello']\n",
            "['Hello', 'Hii', 'ram', 50, 'apple', 3, 2]\n",
            "['aita', 'hii', 'ram', 'zello']\n",
            "[]\n"
          ]
        }
      ]
    },
    {
      "cell_type": "code",
      "source": [
        "#List Comprehensive\n",
        "l1=[20,30,40,50,60]\n",
        "l2=[]\n",
        "for i in l1:\n",
        "  if i>30:\n",
        "    l2.append(i)\n",
        "print(l2)\n",
        "print(l1)\n",
        "\n",
        "l3=[i for i in l1]\n",
        "print(l3)\n"
      ],
      "metadata": {
        "colab": {
          "base_uri": "https://localhost:8080/"
        },
        "id": "XlECaoeeDOzo",
        "outputId": "78f45f39-06cf-4736-f671-99f6e94f43b1"
      },
      "execution_count": 49,
      "outputs": [
        {
          "output_type": "stream",
          "name": "stdout",
          "text": [
            "[40, 50, 60]\n",
            "[20, 30, 40, 50, 60]\n",
            "[20, 30, 40, 50, 60]\n"
          ]
        }
      ]
    },
    {
      "cell_type": "markdown",
      "source": [
        "Problem solving"
      ],
      "metadata": {
        "id": "6NEL_XdvGC3j"
      }
    },
    {
      "cell_type": "code",
      "source": [
        "#Convert Dictionary into json format\n",
        "import json\n",
        "std_marks={\"math\":40,\"science\":50,\"english\":60}\n",
        "data=json.dumps(std_marks)\n",
        "print(data)\n",
        "print(type(data))"
      ],
      "metadata": {
        "id": "OFxDyONdMm5f",
        "outputId": "9c3936cb-8c5f-4a61-cf33-f5d6ef4b7d73",
        "colab": {
          "base_uri": "https://localhost:8080/"
        }
      },
      "execution_count": 51,
      "outputs": [
        {
          "output_type": "stream",
          "name": "stdout",
          "text": [
            "{\"math\": 40, \"science\": 50, \"english\": 60}\n",
            "<class 'str'>\n"
          ]
        }
      ]
    },
    {
      "cell_type": "code",
      "source": [
        "#Access the value of age from data\n",
        "data=\"\"\"{\"Name\":\"Dhirendra\",\"Age\":50,\"Roll\":60}\"\"\"\n",
        "data=json.loads(data)\n",
        "data[\"Age\"]"
      ],
      "metadata": {
        "id": "uKTFih-0NMFR",
        "outputId": "4cc01081-f32b-4a8b-fb75-9db27926ad27",
        "colab": {
          "base_uri": "https://localhost:8080/"
        }
      },
      "execution_count": 54,
      "outputs": [
        {
          "output_type": "execute_result",
          "data": {
            "text/plain": [
              "50"
            ]
          },
          "metadata": {},
          "execution_count": 54
        }
      ]
    },
    {
      "cell_type": "code",
      "source": [
        "#Write a program to find max and min in a set.\n",
        "a=[1,2,3,4,5,6,7,8,9]\n",
        "\n",
        "print(max(a))\n",
        "print(min(a))\n",
        "\n",
        "#Write a program to find common elements in three lists using sets.\n",
        "a=[5,6,7,8,9]\n",
        "b=[1,2,3,4,5]\n",
        "c=[2,3,4,5,6]\n",
        "\n",
        "print(set(a) & set(b) & set(c))\n",
        "\n",
        "#Write a program to find difference between two sets.\n",
        "a={1,2,3,4,5}\n",
        "b={4,5,6,7,8}\n",
        "print(a-b)\n",
        "\n",
        "#Write aprogram to remove an item from a set if it is present in the set\n",
        "a={1,2,3,4,5}\n",
        "a.discard(3)\n",
        "print(a)\n",
        "\n",
        "#Write a program to check if a set is a subset of another set.\n"
      ],
      "metadata": {
        "id": "Lm2JEq_LOCZJ",
        "outputId": "997ef648-137a-40b6-d6ef-2d77e1a223e4",
        "colab": {
          "base_uri": "https://localhost:8080/"
        }
      },
      "execution_count": 60,
      "outputs": [
        {
          "output_type": "stream",
          "name": "stdout",
          "text": [
            "9\n",
            "1\n",
            "{5}\n",
            "{1, 2, 3}\n",
            "{1, 2, 4, 5}\n"
          ]
        }
      ]
    }
  ],
  "metadata": {
    "colab": {
      "provenance": [],
      "authorship_tag": "ABX9TyPwQDww1tK+HEqTYpRzbr/K",
      "include_colab_link": true
    },
    "kernelspec": {
      "display_name": "Python 3",
      "name": "python3"
    },
    "language_info": {
      "name": "python"
    }
  },
  "nbformat": 4,
  "nbformat_minor": 0
}