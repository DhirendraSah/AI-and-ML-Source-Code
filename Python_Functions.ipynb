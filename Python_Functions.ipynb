{
  "nbformat": 4,
  "nbformat_minor": 0,
  "metadata": {
    "colab": {
      "provenance": [],
      "authorship_tag": "ABX9TyPGKzT2XD8//JpIf/xPMZaP",
      "include_colab_link": true
    },
    "kernelspec": {
      "name": "python3",
      "display_name": "Python 3"
    },
    "language_info": {
      "name": "python"
    }
  },
  "cells": [
    {
      "cell_type": "markdown",
      "metadata": {
        "id": "view-in-github",
        "colab_type": "text"
      },
      "source": [
        "<a href=\"https://colab.research.google.com/github/DhirendraSah/AI-and-ML-Source-Code/blob/main/Python_Functions.ipynb\" target=\"_parent\"><img src=\"https://colab.research.google.com/assets/colab-badge.svg\" alt=\"Open In Colab\"/></a>"
      ]
    },
    {
      "cell_type": "markdown",
      "source": [
        "Functions are a set of code, which once created they can be used throughout the program"
      ],
      "metadata": {
        "id": "8D92Xj_kPM0A"
      }
    },
    {
      "cell_type": "code",
      "source": [
        "#Ex-1\n",
        "def hello():\n",
        "  print(\"Hello world\")\n",
        "\n",
        "hello()\n",
        "\n",
        "#Ex-2\n",
        "def add():\n",
        "  x=5\n",
        "  y=30\n",
        "  print(x+y)\n",
        "add()"
      ],
      "metadata": {
        "colab": {
          "base_uri": "https://localhost:8080/"
        },
        "id": "dJmpJNaxPYNi",
        "outputId": "26add6c1-c2a1-41bd-ddae-a854fe5e007d"
      },
      "execution_count": 2,
      "outputs": [
        {
          "output_type": "stream",
          "name": "stdout",
          "text": [
            "Hello world\n",
            "35\n"
          ]
        }
      ]
    },
    {
      "cell_type": "markdown",
      "source": [
        "Parameters and Arguments\n",
        "\n",
        "Parameters are the variables written inside the parentheses with the name of function.\n",
        "\n",
        "Argument are the values passed to the parameters while calling the function"
      ],
      "metadata": {
        "id": "d3HHicz0QUp-"
      }
    },
    {
      "cell_type": "code",
      "source": [
        "def add(x,y):\n",
        "  print(x+y)\n",
        "\n",
        "add(4,5)"
      ],
      "metadata": {
        "colab": {
          "base_uri": "https://localhost:8080/"
        },
        "id": "Uus3cQeuQYLF",
        "outputId": "9e561763-18e8-4e80-992e-8e060a7b4302"
      },
      "execution_count": 3,
      "outputs": [
        {
          "output_type": "stream",
          "name": "stdout",
          "text": [
            "9\n"
          ]
        }
      ]
    },
    {
      "cell_type": "code",
      "source": [
        "def hello(*name):\n",
        "  print(\"My name is \",name[2])\n",
        "\n",
        "hello(\"Lisa\",\"Dhirendra\",\"Rani\")"
      ],
      "metadata": {
        "colab": {
          "base_uri": "https://localhost:8080/"
        },
        "id": "cweYJ5Y6SCCv",
        "outputId": "cc7bd73b-516e-4496-e6d5-20cc1ea0f858"
      },
      "execution_count": 5,
      "outputs": [
        {
          "output_type": "stream",
          "name": "stdout",
          "text": [
            "My name is  Rani\n"
          ]
        }
      ]
    },
    {
      "cell_type": "markdown",
      "source": [
        "Return Statement and Recursion in python"
      ],
      "metadata": {
        "id": "9xcEPCagSX9M"
      }
    },
    {
      "cell_type": "code",
      "source": [
        "def hello():\n",
        "  return(\"Hello world\")\n",
        "\n",
        "print(hello())\n",
        "\n",
        "def add(a,b):\n",
        "  return(a+b)\n",
        "\n",
        "print(add(20,3))\n"
      ],
      "metadata": {
        "colab": {
          "base_uri": "https://localhost:8080/"
        },
        "id": "mT5sIyRXSbr6",
        "outputId": "27b50942-c634-4587-bb18-7d4f87e98ac3"
      },
      "execution_count": 8,
      "outputs": [
        {
          "output_type": "stream",
          "name": "stdout",
          "text": [
            "Hello world\n",
            "23\n"
          ]
        }
      ]
    },
    {
      "cell_type": "code",
      "source": [
        "#Recursion\n",
        "def fact(n):\n",
        "  if n==1:\n",
        "    return 1\n",
        "  else:\n",
        "    return n*fact(n-1)\n",
        "\n",
        "print(fact(5))"
      ],
      "metadata": {
        "colab": {
          "base_uri": "https://localhost:8080/"
        },
        "id": "Mq3_x7_qTQH2",
        "outputId": "b74c4d46-fe60-4b9d-966a-1fd898695d20"
      },
      "execution_count": 9,
      "outputs": [
        {
          "output_type": "stream",
          "name": "stdout",
          "text": [
            "120\n"
          ]
        }
      ]
    },
    {
      "cell_type": "markdown",
      "source": [
        "Lambda Function"
      ],
      "metadata": {
        "id": "EbEUbOVWVFFz"
      }
    },
    {
      "cell_type": "code",
      "source": [
        "a= lambda b:b*5\n",
        "print(a(5))\n",
        "\n",
        "x=lambda a,b,c: (a+b)*c\n",
        "print(x(10,20,30))"
      ],
      "metadata": {
        "colab": {
          "base_uri": "https://localhost:8080/"
        },
        "id": "kfyZEDmQVDpd",
        "outputId": "9b0e3cbe-5262-4660-bb11-84fcf076479f"
      },
      "execution_count": 11,
      "outputs": [
        {
          "output_type": "stream",
          "name": "stdout",
          "text": [
            "25\n",
            "900\n"
          ]
        }
      ]
    },
    {
      "cell_type": "markdown",
      "source": [
        "Local and Global Variables"
      ],
      "metadata": {
        "id": "-j2voGDLWAyu"
      }
    },
    {
      "cell_type": "code",
      "source": [
        "x=20\n",
        "def var():\n",
        "  global x\n",
        "  x=25\n",
        "  return x\n",
        "\n",
        "print(var())\n",
        "x\n"
      ],
      "metadata": {
        "colab": {
          "base_uri": "https://localhost:8080/"
        },
        "id": "ZDxRoo8tWESa",
        "outputId": "cd6aedae-f4cd-42bb-ec3c-71f92e446579"
      },
      "execution_count": 15,
      "outputs": [
        {
          "output_type": "stream",
          "name": "stdout",
          "text": [
            "25\n"
          ]
        },
        {
          "output_type": "execute_result",
          "data": {
            "text/plain": [
              "25"
            ]
          },
          "metadata": {},
          "execution_count": 15
        }
      ]
    },
    {
      "cell_type": "markdown",
      "source": [
        "In-built Modules"
      ],
      "metadata": {
        "id": "VrucfaDVZjeE"
      }
    },
    {
      "cell_type": "code",
      "source": [
        "import datetime\n",
        "\n",
        "datetime= datetime.datetime.now()\n",
        "print(datetime)\n",
        "\n",
        "import datetime\n",
        "x=datetime.datetime(2001,5,2)\n",
        "print(x)\n",
        "print(x.strftime(\"%A\"))"
      ],
      "metadata": {
        "colab": {
          "base_uri": "https://localhost:8080/"
        },
        "id": "2zn6AfxGZm0o",
        "outputId": "864c3960-295d-4c9a-d701-2d16cdf79935"
      },
      "execution_count": 30,
      "outputs": [
        {
          "output_type": "stream",
          "name": "stdout",
          "text": [
            "2025-08-26 03:42:58.822143\n",
            "2001-05-02 00:00:00\n",
            "Wednesday\n"
          ]
        }
      ]
    },
    {
      "cell_type": "code",
      "source": [
        "import random\n",
        "\n",
        "x=random.randint(1,10)\n",
        "print(x)\n",
        "\n",
        "l=[\"Heads\",\"Tails\"]\n",
        "num=int(input(\"Enter 1 for Heads and 0 for tails:\"))\n",
        "x=random.choice(l)\n",
        "\n",
        "if num==1 and x==\"Heads\":\n",
        "  print(\"You won\")\n",
        "\n",
        "elif num==0 and x==\"Tails\":\n",
        "  print(\"You won\")\n",
        "\n",
        "else:\n",
        "  print(\"You lost\")\n",
        ""
      ],
      "metadata": {
        "colab": {
          "base_uri": "https://localhost:8080/"
        },
        "id": "x0fT3A0TeCvk",
        "outputId": "71d590fa-08de-4ba0-d350-8fefdf5ce951"
      },
      "execution_count": 31,
      "outputs": [
        {
          "output_type": "stream",
          "name": "stdout",
          "text": [
            "Enter 1 for Heads and 0 for tails:1\n",
            "9\n",
            "You lost\n"
          ]
        }
      ]
    }
  ]
}